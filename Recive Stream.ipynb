{
 "cells": [
  {
   "cell_type": "code",
   "execution_count": 5,
   "metadata": {},
   "outputs": [],
   "source": [
    "from IPython import display\n",
    "import PIL.Image\n",
    "from IPython.display import clear_output\n",
    "from imutils.video import FPS"
   ]
  },
  {
   "cell_type": "code",
   "execution_count": 6,
   "metadata": {},
   "outputs": [],
   "source": [
    "import sys\n",
    "\n",
    "import socket\n",
    "import traceback\n",
    "import cv2\n",
    "from imutils.video import VideoStream\n",
    "import imagezmq\n",
    "import threading\n",
    "import numpy as np\n",
    "from time import sleep\n",
    "\n",
    "class VideoStreamSubscriber:\n",
    "\n",
    "    def __init__(self, hostname, port):\n",
    "        self.hostname = hostname\n",
    "        self.port = port\n",
    "        self._stop = False\n",
    "        self._data_ready = threading.Event()\n",
    "        self._thread = threading.Thread(target=self._run, args=())\n",
    "        self._thread.daemon = True\n",
    "        self._thread.start()\n",
    "\n",
    "    def receive(self, timeout=15.0):\n",
    "        flag = self._data_ready.wait(timeout=timeout)\n",
    "        if not flag:\n",
    "            raise TimeoutError(\n",
    "                \"Timeout while reading from subscriber tcp://{}:{}\".format(self.hostname, self.port))\n",
    "        self._data_ready.clear()\n",
    "        return self._data\n",
    "\n",
    "    def _run(self):\n",
    "        receiver = imagezmq.ImageHub(\"tcp://{}:{}\".format(self.hostname, self.port), REQ_REP=False)\n",
    "        while not self._stop:\n",
    "            self._data = receiver.recv_jpg()\n",
    "            self._data_ready.set()\n",
    "        receiver.close()\n",
    "\n",
    "    def close(self):\n",
    "        self._stop = True\n",
    "\n",
    "# Simulating heavy processing load\n",
    "def limit_to_2_fps():\n",
    "    sleep(0.5)"
   ]
  },
  {
   "cell_type": "code",
   "execution_count": 12,
   "metadata": {},
   "outputs": [
    {
     "name": "stdout",
     "output_type": "stream",
     "text": [
      "[INFO] approx. FPS: 0.31\n"
     ]
    }
   ],
   "source": [
    "\n",
    "hostname = \"192.168.0.195\" \n",
    "port = 5555\n",
    "receiver = VideoStreamSubscriber(hostname, port)\n",
    "fps = FPS().start()\n",
    "try:\n",
    "    for i in range(10):\n",
    "        msg, frame = receiver.receive()\n",
    "        image = cv2.imdecode(np.frombuffer(frame, dtype='uint8'), -1)\n",
    "        fps.update()\n",
    "        im=PIL.Image.fromarray(image)\n",
    "        display.display(im)\n",
    "        clear_output(wait=True)\n",
    "except Exception as e:\n",
    "    pass\n",
    "    \n",
    "fps.stop()\n",
    "print(\"[INFO] approx. FPS: {:.2f}\".format(fps.fps()))"
   ]
  },
  {
   "cell_type": "code",
   "execution_count": 13,
   "metadata": {},
   "outputs": [
    {
     "data": {
      "text/plain": [
       "3.2258064516129035"
      ]
     },
     "execution_count": 13,
     "metadata": {},
     "output_type": "execute_result"
    }
   ],
   "source": [
    "1/0.31\n"
   ]
  },
  {
   "cell_type": "code",
   "execution_count": null,
   "metadata": {},
   "outputs": [],
   "source": []
  }
 ],
 "metadata": {
  "kernelspec": {
   "display_name": "Python 3",
   "language": "python",
   "name": "python3"
  },
  "language_info": {
   "codemirror_mode": {
    "name": "ipython",
    "version": 3
   },
   "file_extension": ".py",
   "mimetype": "text/x-python",
   "name": "python",
   "nbconvert_exporter": "python",
   "pygments_lexer": "ipython3",
   "version": "3.7.6"
  }
 },
 "nbformat": 4,
 "nbformat_minor": 4
}
